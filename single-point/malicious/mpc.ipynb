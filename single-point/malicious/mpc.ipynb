{
 "cells": [
  {
   "cell_type": "code",
   "execution_count": null,
   "metadata": {
    "vscode": {
     "languageId": "plaintext"
    }
   },
   "outputs": [],
   "source": []
  },
  {
   "cell_type": "markdown",
   "metadata": {},
   "source": [
    "# Secure Multi-party Computation\n",
    "\n",
    "After dealing with model inference, Alice now holds the model output and Bob holds the ground truth. They now need to run an MPC protocol to compute the loss function without revealing their inputs to each other."
   ]
  }
 ],
 "metadata": {
  "language_info": {
   "name": "python"
  }
 },
 "nbformat": 4,
 "nbformat_minor": 2
}
