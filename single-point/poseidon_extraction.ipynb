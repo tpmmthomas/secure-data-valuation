{
 "cells": [
  {
   "cell_type": "code",
   "execution_count": 1,
   "metadata": {},
   "outputs": [],
   "source": [
    "import torch\n",
    "import ezkl\n",
    "import os\n",
    "import json\n",
    "\n",
    "shape = [1, 28, 28]\n",
    "# After training, export to onnx (network.onnx) and create a data file (input.json)\n",
    "x = torch.ones(1,*shape, requires_grad=True) * 3"
   ]
  },
  {
   "cell_type": "code",
   "execution_count": 2,
   "metadata": {},
   "outputs": [],
   "source": [
    "poseidon_hash = \"9649569788ffd45759331a9cd74554f0ce25094d244ccd2e91fea194ca7acb23\" # little endian in proof file\n",
    "x1 = [\"0x0000000000000000000000000000000000000000000000000000000000000000\"]\n",
    "x2 = [\"0\"]\n",
    "x3 = [0]\n",
    "#This is the poseidon hash of 0"
   ]
  },
  {
   "cell_type": "code",
   "execution_count": null,
   "metadata": {},
   "outputs": [
    {
     "name": "stdout",
     "output_type": "stream",
     "text": [
      "128\n",
      "2 2\n",
      "0xbceca70bd2af7ad5af07f38af8c952a7ec10345351a23a3a066f6f85d6f68a85\n"
     ]
    }
   ],
   "source": [
    "from poseidon_params import RC, MDS\n",
    "\n",
    "# print(len(x))\n",
    "print(len(RC))\n",
    "print(len(MDS), len(MDS[0]))\n",
    "print(MDS[0][0])"
   ]
  },
  {
   "cell_type": "code",
   "execution_count": 4,
   "metadata": {},
   "outputs": [
    {
     "name": "stdout",
     "output_type": "stream",
     "text": [
      "Initialize Round Numbers\n",
      "Initialize field\n",
      "Initialize MDS matrix\n"
     ]
    },
    {
     "ename": "ValueError",
     "evalue": "GF(21888242871839275222246405745257275088548364400416034343698204186575808495617) scalars must be in `0 <= x < 21888242871839275222246405745257275088548364400416034343698204186575808495617`, not 85452944351328876541311769978005379875202857832550314734853666175785253636741.",
     "output_type": "error",
     "traceback": [
      "\u001b[0;31m---------------------------------------------------------------------------\u001b[0m",
      "\u001b[0;31mValueError\u001b[0m                                Traceback (most recent call last)",
      "Cell \u001b[0;32mIn[4], line 8\u001b[0m\n\u001b[1;32m      6\u001b[0m full_round\u001b[38;5;241m=\u001b[39m\u001b[38;5;241m8\u001b[39m\n\u001b[1;32m      7\u001b[0m partial_round\u001b[38;5;241m=\u001b[39m\u001b[38;5;241m56\u001b[39m\n\u001b[0;32m----> 8\u001b[0m poseidon_new \u001b[38;5;241m=\u001b[39m \u001b[43mposeidon\u001b[49m\u001b[38;5;241;43m.\u001b[39;49m\u001b[43mPoseidon\u001b[49m\u001b[43m(\u001b[49m\u001b[43mposeidon\u001b[49m\u001b[38;5;241;43m.\u001b[39;49m\u001b[43mparameters\u001b[49m\u001b[38;5;241;43m.\u001b[39;49m\u001b[43mprime_254\u001b[49m\u001b[43m,\u001b[49m\u001b[43msecurity_level\u001b[49m\u001b[43m,\u001b[49m\u001b[43malpha\u001b[49m\u001b[43m,\u001b[49m\u001b[43minput_rate\u001b[49m\u001b[43m,\u001b[49m\u001b[43mt\u001b[49m\u001b[43m,\u001b[49m\u001b[43mfull_round\u001b[49m\u001b[43m,\u001b[49m\u001b[43mpartial_round\u001b[49m\u001b[43m,\u001b[49m\u001b[43mMDS\u001b[49m\u001b[43m,\u001b[49m\u001b[43mRC\u001b[49m\u001b[43m)\u001b[49m\n",
      "File \u001b[0;32m~/miniconda3/envs/sdv2/lib/python3.11/site-packages/poseidon/hash.py:78\u001b[0m, in \u001b[0;36mPoseidon.__init__\u001b[0;34m(self, p, security_level, alpha, input_rate, t, full_round, partial_round, mds_matrix, rc_list, prime_bit_len)\u001b[0m\n\u001b[1;32m     76\u001b[0m     \u001b[38;5;28;01mif\u001b[39;00m (\u001b[38;5;28mlen\u001b[39m(mds_matrix) \u001b[38;5;241m!=\u001b[39m \u001b[38;5;28mself\u001b[39m\u001b[38;5;241m.\u001b[39mt) \u001b[38;5;241m&\u001b[39m (\u001b[38;5;28mlen\u001b[39m(mds_matrix[\u001b[38;5;241m0\u001b[39m]) \u001b[38;5;241m!=\u001b[39m \u001b[38;5;28mself\u001b[39m\u001b[38;5;241m.\u001b[39mt):\n\u001b[1;32m     77\u001b[0m         \u001b[38;5;28;01mraise\u001b[39;00m \u001b[38;5;167;01mValueError\u001b[39;00m(\u001b[38;5;124m'\u001b[39m\u001b[38;5;124mInvalid size of MDS matrix\u001b[39m\u001b[38;5;124m'\u001b[39m)\n\u001b[0;32m---> 78\u001b[0m     \u001b[38;5;28mself\u001b[39m\u001b[38;5;241m.\u001b[39mmds_matrix \u001b[38;5;241m=\u001b[39m \u001b[43mrc\u001b[49m\u001b[38;5;241;43m.\u001b[39;49m\u001b[43mget_field_matrix_from_hex_matrix\u001b[49m\u001b[43m(\u001b[49m\u001b[38;5;28;43mself\u001b[39;49m\u001b[38;5;241;43m.\u001b[39;49m\u001b[43mfield_p\u001b[49m\u001b[43m,\u001b[49m\u001b[43m \u001b[49m\u001b[43mmds_matrix\u001b[49m\u001b[43m)\u001b[49m\n\u001b[1;32m     79\u001b[0m \u001b[38;5;28;01melse\u001b[39;00m:\n\u001b[1;32m     80\u001b[0m     \u001b[38;5;28mself\u001b[39m\u001b[38;5;241m.\u001b[39mmds_matrix \u001b[38;5;241m=\u001b[39m rc\u001b[38;5;241m.\u001b[39mmds_matrix_generator(\u001b[38;5;28mself\u001b[39m\u001b[38;5;241m.\u001b[39mfield_p, \u001b[38;5;28mself\u001b[39m\u001b[38;5;241m.\u001b[39mt)\n",
      "File \u001b[0;32m~/miniconda3/envs/sdv2/lib/python3.11/site-packages/poseidon/round_constants.py:17\u001b[0m, in \u001b[0;36mget_field_matrix_from_hex_matrix\u001b[0;34m(field_p, mds_matrix)\u001b[0m\n\u001b[1;32m     15\u001b[0m \u001b[38;5;28;01mfor\u001b[39;00m i \u001b[38;5;129;01min\u001b[39;00m \u001b[38;5;28mrange\u001b[39m(\u001b[38;5;241m0\u001b[39m, n):\n\u001b[1;32m     16\u001b[0m     \u001b[38;5;28;01mfor\u001b[39;00m j \u001b[38;5;129;01min\u001b[39;00m \u001b[38;5;28mrange\u001b[39m(\u001b[38;5;241m0\u001b[39m, n):\n\u001b[0;32m---> 17\u001b[0m         mds_matrix_field[i, j] \u001b[38;5;241m=\u001b[39m \u001b[43mfield_p\u001b[49m\u001b[43m(\u001b[49m\u001b[38;5;28;43mint\u001b[39;49m\u001b[43m(\u001b[49m\u001b[43mmds_matrix\u001b[49m\u001b[43m[\u001b[49m\u001b[43mi\u001b[49m\u001b[43m]\u001b[49m\u001b[43m[\u001b[49m\u001b[43mj\u001b[49m\u001b[43m]\u001b[49m\u001b[43m,\u001b[49m\u001b[43m \u001b[49m\u001b[38;5;241;43m16\u001b[39;49m\u001b[43m)\u001b[49m\u001b[43m)\u001b[49m\n\u001b[1;32m     18\u001b[0m \u001b[38;5;28;01mreturn\u001b[39;00m mds_matrix_field\n",
      "File \u001b[0;32m~/miniconda3/envs/sdv2/lib/python3.11/site-packages/galois/_fields/_array.py:70\u001b[0m, in \u001b[0;36mFieldArray.__new__\u001b[0;34m(cls, x, dtype, copy, order, ndmin)\u001b[0m\n\u001b[1;32m     64\u001b[0m \u001b[38;5;28;01mif\u001b[39;00m \u001b[38;5;28mcls\u001b[39m \u001b[38;5;129;01mis\u001b[39;00m FieldArray:\n\u001b[1;32m     65\u001b[0m     \u001b[38;5;28;01mraise\u001b[39;00m \u001b[38;5;167;01mNotImplementedError\u001b[39;00m(\n\u001b[1;32m     66\u001b[0m         \u001b[38;5;124m\"\u001b[39m\u001b[38;5;124mFieldArray is an abstract base class that cannot be directly instantiated. \u001b[39m\u001b[38;5;124m\"\u001b[39m\n\u001b[1;32m     67\u001b[0m         \u001b[38;5;124m\"\u001b[39m\u001b[38;5;124mInstead, create a FieldArray subclass for GF(p^m) arithmetic using `GF = galois.GF(p**m)` \u001b[39m\u001b[38;5;124m\"\u001b[39m\n\u001b[1;32m     68\u001b[0m         \u001b[38;5;124m\"\u001b[39m\u001b[38;5;124mand instantiate an array using `x = GF(array_like)`.\u001b[39m\u001b[38;5;124m\"\u001b[39m\n\u001b[1;32m     69\u001b[0m     )\n\u001b[0;32m---> 70\u001b[0m \u001b[38;5;28;01mreturn\u001b[39;00m \u001b[38;5;28;43msuper\u001b[39;49m\u001b[43m(\u001b[49m\u001b[43m)\u001b[49m\u001b[38;5;241;43m.\u001b[39;49m\u001b[38;5;21;43m__new__\u001b[39;49m\u001b[43m(\u001b[49m\u001b[38;5;28;43mcls\u001b[39;49m\u001b[43m,\u001b[49m\u001b[43m \u001b[49m\u001b[43mx\u001b[49m\u001b[43m,\u001b[49m\u001b[43m \u001b[49m\u001b[43mdtype\u001b[49m\u001b[43m,\u001b[49m\u001b[43m \u001b[49m\u001b[43mcopy\u001b[49m\u001b[43m,\u001b[49m\u001b[43m \u001b[49m\u001b[43morder\u001b[49m\u001b[43m,\u001b[49m\u001b[43m \u001b[49m\u001b[43mndmin\u001b[49m\u001b[43m)\u001b[49m\n",
      "File \u001b[0;32m~/miniconda3/envs/sdv2/lib/python3.11/site-packages/galois/_domains/_array.py:55\u001b[0m, in \u001b[0;36mArray.__new__\u001b[0;34m(cls, x, dtype, copy, order, ndmin)\u001b[0m\n\u001b[1;32m     47\u001b[0m     \u001b[38;5;28;01mraise\u001b[39;00m \u001b[38;5;167;01mNotImplementedError\u001b[39;00m(\n\u001b[1;32m     48\u001b[0m         \u001b[38;5;124m\"\u001b[39m\u001b[38;5;124mArray is an abstract base class that cannot be directly instantiated. \u001b[39m\u001b[38;5;124m\"\u001b[39m\n\u001b[1;32m     49\u001b[0m         \u001b[38;5;124m\"\u001b[39m\u001b[38;5;124mInstead, create an Array subclass for GF(p^m) arithmetic using `GF = galois.GF(p**m)` \u001b[39m\u001b[38;5;124m\"\u001b[39m\n\u001b[1;32m     50\u001b[0m         \u001b[38;5;124m\"\u001b[39m\u001b[38;5;124mand instantiate an array using `x = GF(array_like)`.\u001b[39m\u001b[38;5;124m\"\u001b[39m\n\u001b[1;32m     51\u001b[0m     )\n\u001b[1;32m     53\u001b[0m dtype \u001b[38;5;241m=\u001b[39m \u001b[38;5;28mcls\u001b[39m\u001b[38;5;241m.\u001b[39m_get_dtype(dtype)\n\u001b[0;32m---> 55\u001b[0m x \u001b[38;5;241m=\u001b[39m \u001b[38;5;28;43mcls\u001b[39;49m\u001b[38;5;241;43m.\u001b[39;49m\u001b[43m_verify_array_like_types_and_values\u001b[49m\u001b[43m(\u001b[49m\u001b[43mx\u001b[49m\u001b[43m)\u001b[49m\n\u001b[1;32m     56\u001b[0m array \u001b[38;5;241m=\u001b[39m np\u001b[38;5;241m.\u001b[39marray(x, dtype\u001b[38;5;241m=\u001b[39mdtype, copy\u001b[38;5;241m=\u001b[39mcopy, order\u001b[38;5;241m=\u001b[39morder, ndmin\u001b[38;5;241m=\u001b[39mndmin)\n\u001b[1;32m     58\u001b[0m \u001b[38;5;66;03m# Perform view without verification since the elements were verified in _verify_array_like_types_and_values()\u001b[39;00m\n",
      "File \u001b[0;32m~/miniconda3/envs/sdv2/lib/python3.11/site-packages/galois/_fields/_array.py:129\u001b[0m, in \u001b[0;36mFieldArray._verify_array_like_types_and_values\u001b[0;34m(cls, x)\u001b[0m\n\u001b[1;32m    126\u001b[0m \u001b[38;5;129m@classmethod\u001b[39m\n\u001b[1;32m    127\u001b[0m \u001b[38;5;28;01mdef\u001b[39;00m\u001b[38;5;250m \u001b[39m\u001b[38;5;21m_verify_array_like_types_and_values\u001b[39m(\u001b[38;5;28mcls\u001b[39m, x: ElementLike \u001b[38;5;241m|\u001b[39m ArrayLike) \u001b[38;5;241m-\u001b[39m\u001b[38;5;241m>\u001b[39m ElementLike \u001b[38;5;241m|\u001b[39m ArrayLike:\n\u001b[1;32m    128\u001b[0m     \u001b[38;5;28;01mif\u001b[39;00m \u001b[38;5;28misinstance\u001b[39m(x, (\u001b[38;5;28mint\u001b[39m, np\u001b[38;5;241m.\u001b[39minteger)):\n\u001b[0;32m--> 129\u001b[0m         \u001b[38;5;28;43mcls\u001b[39;49m\u001b[38;5;241;43m.\u001b[39;49m\u001b[43m_verify_scalar_value\u001b[49m\u001b[43m(\u001b[49m\u001b[43mx\u001b[49m\u001b[43m)\u001b[49m\n\u001b[1;32m    130\u001b[0m     \u001b[38;5;28;01melif\u001b[39;00m \u001b[38;5;28misinstance\u001b[39m(x, \u001b[38;5;28mcls\u001b[39m):\n\u001b[1;32m    131\u001b[0m         \u001b[38;5;66;03m# This was a previously-created and vetted array -- there's no need to re-verify\u001b[39;00m\n\u001b[1;32m    132\u001b[0m         \u001b[38;5;28;01mif\u001b[39;00m x\u001b[38;5;241m.\u001b[39mndim \u001b[38;5;241m==\u001b[39m \u001b[38;5;241m0\u001b[39m:\n\u001b[1;32m    133\u001b[0m             \u001b[38;5;66;03m# Ensure that in \"large\" fields with dtype=object that FieldArray objects aren't assigned to the array.\u001b[39;00m\n\u001b[1;32m    134\u001b[0m             \u001b[38;5;66;03m# The arithmetic functions are designed to operate on Python ints.\u001b[39;00m\n",
      "File \u001b[0;32m~/miniconda3/envs/sdv2/lib/python3.11/site-packages/galois/_fields/_array.py:168\u001b[0m, in \u001b[0;36mFieldArray._verify_scalar_value\u001b[0;34m(cls, scalar)\u001b[0m\n\u001b[1;32m    165\u001b[0m \u001b[38;5;129m@classmethod\u001b[39m\n\u001b[1;32m    166\u001b[0m \u001b[38;5;28;01mdef\u001b[39;00m\u001b[38;5;250m \u001b[39m\u001b[38;5;21m_verify_scalar_value\u001b[39m(\u001b[38;5;28mcls\u001b[39m, scalar: \u001b[38;5;28mint\u001b[39m):\n\u001b[1;32m    167\u001b[0m     \u001b[38;5;28;01mif\u001b[39;00m \u001b[38;5;129;01mnot\u001b[39;00m \u001b[38;5;241m0\u001b[39m \u001b[38;5;241m<\u001b[39m\u001b[38;5;241m=\u001b[39m scalar \u001b[38;5;241m<\u001b[39m \u001b[38;5;28mcls\u001b[39m\u001b[38;5;241m.\u001b[39morder:\n\u001b[0;32m--> 168\u001b[0m         \u001b[38;5;28;01mraise\u001b[39;00m \u001b[38;5;167;01mValueError\u001b[39;00m(\u001b[38;5;124mf\u001b[39m\u001b[38;5;124m\"\u001b[39m\u001b[38;5;132;01m{\u001b[39;00m\u001b[38;5;28mcls\u001b[39m\u001b[38;5;241m.\u001b[39mname\u001b[38;5;132;01m}\u001b[39;00m\u001b[38;5;124m scalars must be in `0 <= x < \u001b[39m\u001b[38;5;132;01m{\u001b[39;00m\u001b[38;5;28mcls\u001b[39m\u001b[38;5;241m.\u001b[39morder\u001b[38;5;132;01m}\u001b[39;00m\u001b[38;5;124m`, not \u001b[39m\u001b[38;5;132;01m{\u001b[39;00mscalar\u001b[38;5;132;01m}\u001b[39;00m\u001b[38;5;124m.\u001b[39m\u001b[38;5;124m\"\u001b[39m)\n",
      "\u001b[0;31mValueError\u001b[0m: GF(21888242871839275222246405745257275088548364400416034343698204186575808495617) scalars must be in `0 <= x < 21888242871839275222246405745257275088548364400416034343698204186575808495617`, not 85452944351328876541311769978005379875202857832550314734853666175785253636741."
     ]
    }
   ],
   "source": [
    "import poseidon\n",
    "security_level = 128\n",
    "alpha = 5\n",
    "input_rate = 4\n",
    "t = 2\n",
    "full_round=8\n",
    "partial_round=56\n",
    "poseidon_new = poseidon.Poseidon(poseidon.parameters.prime_254,security_level,alpha,input_rate,t,full_round,partial_round,MDS,RC)"
   ]
  },
  {
   "cell_type": "code",
   "execution_count": null,
   "metadata": {},
   "outputs": [
    {
     "name": "stdout",
     "output_type": "stream",
     "text": [
      "Output: 0x2d81a91a83289b2302dd65cef40a3844f4d82e28bb3d97bf80aaae74a337ffd6\n",
      "Output: 0x2d81a91a83289b2302dd65cef40a3844f4d82e28bb3d97bf80aaae74a337ffd6\n",
      "Output: 0x2d81a91a83289b2302dd65cef40a3844f4d82e28bb3d97bf80aaae74a337ffd6\n"
     ]
    }
   ],
   "source": [
    "out = poseidon_new.run_hash(x1)\n",
    "print(\"Output:\", hex(int(out)))\n",
    "out = poseidon_new.run_hash(x2)\n",
    "print(\"Output:\", hex(int(out)))\n",
    "out = poseidon_new.run_hash(x3)\n",
    "print(\"Output:\", hex(int(out)))"
   ]
  },
  {
   "cell_type": "code",
   "execution_count": null,
   "metadata": {},
   "outputs": [],
   "source": []
  }
 ],
 "metadata": {
  "kernelspec": {
   "display_name": "sdv2",
   "language": "python",
   "name": "python3"
  },
  "language_info": {
   "codemirror_mode": {
    "name": "ipython",
    "version": 3
   },
   "file_extension": ".py",
   "mimetype": "text/x-python",
   "name": "python",
   "nbconvert_exporter": "python",
   "pygments_lexer": "ipython3",
   "version": "3.11.11"
  }
 },
 "nbformat": 4,
 "nbformat_minor": 2
}
