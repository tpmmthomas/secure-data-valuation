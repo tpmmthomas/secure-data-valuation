{
 "cells": [
  {
   "cell_type": "code",
   "execution_count": 1,
   "metadata": {},
   "outputs": [],
   "source": [
    "import torch\n",
    "import ezkl\n",
    "import os\n",
    "import json\n",
    "\n",
    "shape = [1, 28, 28]\n",
    "# After training, export to onnx (network.onnx) and create a data file (input.json)\n",
    "x = torch.ones(1,*shape, requires_grad=True) * 3"
   ]
  },
  {
   "cell_type": "code",
   "execution_count": 6,
   "metadata": {},
   "outputs": [],
   "source": [
    "poseidon_hash = \"9649569788ffd45759331a9cd74554f0ce25094d244ccd2e91fea194ca7acb23\" # little endian in proof file\n",
    "x1 = [\"0x0000000000000000000000000000000000000000000000000000000000000000\"]\n",
    "x2 = [\"0\"]\n",
    "x3 = [0]\n",
    "#This is the poseidon hash of 0"
   ]
  },
  {
   "cell_type": "code",
   "execution_count": 3,
   "metadata": {},
   "outputs": [
    {
     "name": "stdout",
     "output_type": "stream",
     "text": [
      "256\n",
      "4 4\n"
     ]
    }
   ],
   "source": [
    "from poseidon_params import RC, MDS\n",
    "\n",
    "# print(len(x))\n",
    "print(len(RC))\n",
    "print(len(MDS), len(MDS[0]))"
   ]
  },
  {
   "cell_type": "code",
   "execution_count": 4,
   "metadata": {},
   "outputs": [
    {
     "name": "stdout",
     "output_type": "stream",
     "text": [
      "Initialize Round Numbers\n",
      "Initialize field\n",
      "Initialize MDS matrix\n",
      "Initialize Round Constant\n"
     ]
    }
   ],
   "source": [
    "import poseidon\n",
    "security_level = 128\n",
    "alpha = 5\n",
    "input_rate = 4\n",
    "t = 5\n",
    "full_round=8\n",
    "partial_round=56\n",
    "poseidon_new = poseidon.Poseidon(poseidon.parameters.prime_254,security_level,alpha,input_rate,t,full_round,partial_round,MDS,RC)"
   ]
  },
  {
   "cell_type": "code",
   "execution_count": 7,
   "metadata": {},
   "outputs": [
    {
     "name": "stdout",
     "output_type": "stream",
     "text": [
      "Output: 0x28cb29b0081a2203d7e288a414ee9bf214a9a79c252aaa4a34e0d7e944ac3820\n",
      "Output: 0x28cb29b0081a2203d7e288a414ee9bf214a9a79c252aaa4a34e0d7e944ac3820\n",
      "Output: 0x28cb29b0081a2203d7e288a414ee9bf214a9a79c252aaa4a34e0d7e944ac3820\n"
     ]
    }
   ],
   "source": [
    "out = poseidon_new.run_hash(x1)\n",
    "print(\"Output:\", hex(int(out)))\n",
    "out = poseidon_new.run_hash(x2)\n",
    "print(\"Output:\", hex(int(out)))\n",
    "out = poseidon_new.run_hash(x3)\n",
    "print(\"Output:\", hex(int(out)))"
   ]
  },
  {
   "cell_type": "code",
   "execution_count": null,
   "metadata": {},
   "outputs": [],
   "source": []
  }
 ],
 "metadata": {
  "kernelspec": {
   "display_name": "sdv2",
   "language": "python",
   "name": "python3"
  },
  "language_info": {
   "codemirror_mode": {
    "name": "ipython",
    "version": 3
   },
   "file_extension": ".py",
   "mimetype": "text/x-python",
   "name": "python",
   "nbconvert_exporter": "python",
   "pygments_lexer": "ipython3",
   "version": "3.11.11"
  }
 },
 "nbformat": 4,
 "nbformat_minor": 2
}
