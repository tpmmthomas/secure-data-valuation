{
 "cells": [
  {
   "cell_type": "markdown",
   "metadata": {},
   "source": [
    "# Single-point, semi-honest case\n",
    "\n",
    "In this scenario, Alice and Bob are both assumed to be semi-honest, meaning that they will follow the protocol as specified, but they may try to learn more about the other party's input by analyzing the messages they receive. The goal is to compute the valuation of Bob's data point $x$, defined as the negative loss of the datapoint on Alice's model $M$.\n"
   ]
  },
  {
   "cell_type": "markdown",
   "metadata": {},
   "source": [
    "## Part 0: The setup\n"
   ]
  },
  {
   "cell_type": "code",
   "execution_count": 1,
   "metadata": {},
   "outputs": [
    {
     "name": "stderr",
     "output_type": "stream",
     "text": [
      "Clipping input data to the valid range for imshow with RGB data ([0..1] for floats or [0..255] for integers).\n"
     ]
    },
    {
     "data": {
      "image/png": "[encoded data removed]",
      "text/plain": [
       "<Figure size 640x480 with 1 Axes>"
      ]
     },
     "metadata": {},
     "output_type": "display_data"
    }
   ],
   "source": [
    "#First, we define Alice's model M. We assume a simple CNN model.\n",
    "import torch\n",
    "import torch.nn as nn\n",
    "import torch.nn.functional as F\n",
    "import torch.optim\n",
    "import matplotlib.pyplot as plt\n",
    "\n",
    "class LeNet(nn.Sequential):\n",
    "    \"\"\"\n",
    "    Adaptation of LeNet that uses ReLU activations\n",
    "    \"\"\"\n",
    "\n",
    "    # network architecture:\n",
    "    def __init__(self):\n",
    "        super(LeNet, self).__init__()\n",
    "        self.conv1 = nn.Conv2d(3, 6, 5)\n",
    "        self.pool = nn.MaxPool2d(2, 2)\n",
    "        self.conv2 = nn.Conv2d(6, 16, 5)\n",
    "        self.fc1 = nn.Linear(16 * 5 * 5, 120)\n",
    "        self.fc2 = nn.Linear(120, 84)\n",
    "        self.fc3 = nn.Linear(84, 10)\n",
    "\n",
    "    def forward(self, x):\n",
    "        x = self.pool(F.relu(self.conv1(x)))\n",
    "        x = self.pool(F.relu(self.conv2(x)))\n",
    "        x = x.view(-1, 16 * 5 * 5)\n",
    "        x = F.relu(self.fc1(x))\n",
    "        x = F.relu(self.fc2(x))\n",
    "        x = self.fc3(x)\n",
    "        return x\n",
    "    \n",
    "model = LeNet()\n",
    "#Save the model weights\n",
    "torch.save(model.state_dict(), 'data/model.pth')\n",
    "\n",
    "#Next, we define the data loader for CIFAR-10 dataset.\n",
    "import torchvision\n",
    "import torchvision.transforms as transforms\n",
    "\n",
    "transform = transforms.Compose(\n",
    "    [transforms.ToTensor(),\n",
    "     transforms.Normalize((0.5, 0.5, 0.5), (0.5, 0.5, 0.5))])\n",
    "\n",
    "trainset = torchvision.datasets.CIFAR10(root='./data', train=False,transform=transform)\n",
    "data, lbl  = trainset[4]\n",
    "classes = trainset.classes  # ['airplane', 'automobile', 'bird', ..., 'truck']\n",
    "class_name = classes[lbl]\n",
    "\n",
    "label_eye = torch.eye(10)\n",
    "label = label_eye[lbl]\n",
    "\n",
    "torch.save(data, 'data/data.pth')\n",
    "torch.save(label, 'data/lbl.pth')\n",
    "\n",
    "# Since 'image' is a Torch tensor of shape (C, H, W),\n",
    "# we need to permute the axes to (H, W, C) for display.\n",
    "plt.imshow(data.permute(1, 2, 0))\n",
    "\n",
    "# Add the class name as the title\n",
    "plt.title(f\"Label: {class_name}\")\n",
    "plt.axis('off')  # Hide axis ticks\n",
    "plt.show()\n",
    "\n",
    "#The variable model is Alice's model M, the variable data and lbl is Bob's contribution (x,y)."
   ]
  },
  {
   "cell_type": "markdown",
   "metadata": {},
   "source": [
    "## Part 1: Model Inference\n",
    "\n",
    "Given that both parties are semi-honest, we can utilize the library CrypTen. CrypTen is an SMPC library that operates under semi-honest assumptions. "
   ]
  },
  {
   "cell_type": "code",
   "execution_count": 6,
   "metadata": {},
   "outputs": [
    {
     "name": "stdout",
     "output_type": "stream",
     "text": [
      "Model successfully encrypted: True\n"
     ]
    },
    {
     "name": "stderr",
     "output_type": "stream",
     "text": [
      "/home/thomas/miniconda3/envs/secdataval/lib/python3.7/site-packages/crypten/__init__.py:64: RuntimeWarning: CrypTen is already initialized.\n",
      "  warnings.warn(\"CrypTen is already initialized.\", RuntimeWarning)\n"
     ]
    }
   ],
   "source": [
    "import crypten\n",
    "import os\n",
    "os.environ['CUDA_VISIBLE_DEVICES']=''\n",
    "\n",
    "crypten.init()\n",
    "crypten.common.serial.register_safe_class(LeNet)\n",
    "\n",
    "#Define the rank of Alice and Bob\n",
    "ALICE = 0\n",
    "BOB = 1\n",
    "\n",
    "#Encrypt model\n",
    "model = LeNet() #Reload model \n",
    "model.load_state_dict(torch.load('./data/model.pth')) #Alice loads model weights\n",
    "dummy_input = torch.empty(data.shape).unsqueeze_(0)\n",
    "encrypted_model = crypten.nn.from_pytorch(model, dummy_input)\n",
    "encrypted_model.encrypt(src=ALICE)\n",
    "print(\"Model successfully encrypted:\", encrypted_model.encrypted)\n",
    "\n"
   ]
  },
  {
   "cell_type": "code",
   "execution_count": 8,
   "metadata": {},
   "outputs": [
    {
     "name": "stderr",
     "output_type": "stream",
     "text": [
      "Process Process-9:\n",
      "Process Process-10:\n",
      "Traceback (most recent call last):\n",
      "Traceback (most recent call last):\n",
      "  File \"/home/thomas/miniconda3/envs/secdataval/lib/python3.7/multiprocessing/process.py\", line 297, in _bootstrap\n",
      "    self.run()\n",
      "  File \"/home/thomas/miniconda3/envs/secdataval/lib/python3.7/multiprocessing/process.py\", line 297, in _bootstrap\n",
      "    self.run()\n",
      "  File \"/home/thomas/miniconda3/envs/secdataval/lib/python3.7/multiprocessing/process.py\", line 99, in run\n",
      "    self._target(*self._args, **self._kwargs)\n",
      "  File \"/home/thomas/miniconda3/envs/secdataval/lib/python3.7/multiprocessing/process.py\", line 99, in run\n",
      "    self._target(*self._args, **self._kwargs)\n",
      "  File \"/home/thomas/miniconda3/envs/secdataval/lib/python3.7/site-packages/crypten/mpc/context.py\", line 30, in _launch\n",
      "    return_value = func(*func_args, **func_kwargs)\n",
      "  File \"/home/thomas/miniconda3/envs/secdataval/lib/python3.7/site-packages/crypten/mpc/context.py\", line 30, in _launch\n",
      "    return_value = func(*func_args, **func_kwargs)\n",
      "  File \"/tmp/ipykernel_609007/2963206225.py\", line 9, in run_encrypted_valuation\n",
      "    model = crypten.load_from_party('/home/thomas/secure-data-valuation/single-point/semi-honest/data/model.pth', src=ALICE)\n",
      "  File \"/tmp/ipykernel_609007/2963206225.py\", line 9, in run_encrypted_valuation\n",
      "    model = crypten.load_from_party('/home/thomas/secure-data-valuation/single-point/semi-honest/data/model.pth', src=ALICE)\n",
      "  File \"/home/thomas/miniconda3/envs/secdataval/lib/python3.7/site-packages/crypten/__init__.py\", line 345, in load_from_party\n",
      "    raise TypeError(\"Unrecognized load type %s\" % type(result))\n",
      "  File \"/home/thomas/miniconda3/envs/secdataval/lib/python3.7/site-packages/crypten/__init__.py\", line 355, in load_from_party\n",
      "    raise TypeError(\"Unrecognized load type from src party\")\n",
      "TypeError: Unrecognized load type <class 'int'>\n",
      "TypeError: Unrecognized load type from src party\n",
      "ERROR:root:One of the parties failed. Check past logs\n"
     ]
    }
   ],
   "source": [
    "import crypten.mpc as mpc\n",
    "import crypten.communicator as comm\n",
    "\n",
    "\n",
    "\n",
    "@mpc.run_multiprocess(world_size=2)\n",
    "def run_encrypted_valuation():\n",
    "    #Load pretrained model to Alice\n",
    "    model = crypten.load_from_party('data/model.pth', src=ALICE)\n",
    "    # #Encrypt model from Alice \n",
    "    # dummy_input = torch.empty(data.shape).unsqueeze_(0)\n",
    "    # encrypted_model = crypten.nn.from_pytorch(model, dummy_input)\n",
    "    # encrypted_model.encrypt(src=ALICE)\n",
    "\n",
    "    # #Load data to Bob\n",
    "    # data = crypten.load_from_party('data/data.pth', src=BOB)\n",
    "    # label = crypten.load_from_party('data/lbl.pth', src=BOB)\n",
    "\n",
    "run_encrypted_valuation()"
   ]
  },
  {
   "cell_type": "code",
   "execution_count": null,
   "metadata": {},
   "outputs": [],
   "source": []
  }
 ],
 "metadata": {
  "kernelspec": {
   "display_name": "secdataval",
   "language": "python",
   "name": "python3"
  },
  "language_info": {
   "codemirror_mode": {
    "name": "ipython",
    "version": 3
   },
   "file_extension": ".py",
   "mimetype": "text/x-python",
   "name": "python",
   "nbconvert_exporter": "python",
   "pygments_lexer": "ipython3",
   "version": "3.7.16"
  }
 },
 "nbformat": 4,
 "nbformat_minor": 2
}
